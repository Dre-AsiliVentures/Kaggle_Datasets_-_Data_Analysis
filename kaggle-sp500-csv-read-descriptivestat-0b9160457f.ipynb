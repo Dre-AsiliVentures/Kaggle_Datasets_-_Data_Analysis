{
 "cells": [
  {
   "cell_type": "code",
   "execution_count": 1,
   "id": "80f99b4e",
   "metadata": {
    "_cell_guid": "b1076dfc-b9ad-4769-8c92-a6c4dae69d19",
    "_uuid": "8f2839f25d086af736a60e9eeb907d3b93b6e0e5",
    "execution": {
     "iopub.execute_input": "2022-05-17T12:17:15.748303Z",
     "iopub.status.busy": "2022-05-17T12:17:15.747102Z",
     "iopub.status.idle": "2022-05-17T12:17:15.765803Z",
     "shell.execute_reply": "2022-05-17T12:17:15.764932Z"
    },
    "papermill": {
     "duration": 0.02987,
     "end_time": "2022-05-17T12:17:15.768173",
     "exception": false,
     "start_time": "2022-05-17T12:17:15.738303",
     "status": "completed"
    },
    "tags": []
   },
   "outputs": [
    {
     "name": "stdout",
     "output_type": "stream",
     "text": [
      "/kaggle/input/sp500federal-reserve-economic-data-fred-201722/SP500.csv\n"
     ]
    }
   ],
   "source": [
    "# This Python 3 environment comes with many helpful analytics libraries installed\n",
    "# It is defined by the kaggle/python Docker image: https://github.com/kaggle/docker-python\n",
    "# For example, here's several helpful packages to load\n",
    "\n",
    "import numpy as np # linear algebra\n",
    "import pandas as pd # data processing, CSV file I/O (e.g. pd.read_csv)\n",
    "\n",
    "# Input data files are available in the read-only \"../input/\" directory\n",
    "# For example, running this (by clicking run or pressing Shift+Enter) will list all files under the input directory\n",
    "\n",
    "import os\n",
    "for dirname, _, filenames in os.walk('/kaggle/input'):\n",
    "    for filename in filenames:\n",
    "        print(os.path.join(dirname, filename))\n",
    "\n",
    "# You can write up to 20GB to the current directory (/kaggle/working/) that gets preserved as output when you create a version using \"Save & Run All\" \n",
    "# You can also write temporary files to /kaggle/temp/, but they won't be saved outside of the current session"
   ]
  },
  {
   "cell_type": "code",
   "execution_count": 2,
   "id": "69645f76",
   "metadata": {
    "execution": {
     "iopub.execute_input": "2022-05-17T12:17:15.782546Z",
     "iopub.status.busy": "2022-05-17T12:17:15.781435Z",
     "iopub.status.idle": "2022-05-17T12:17:15.808078Z",
     "shell.execute_reply": "2022-05-17T12:17:15.806752Z"
    },
    "papermill": {
     "duration": 0.036556,
     "end_time": "2022-05-17T12:17:15.811149",
     "exception": false,
     "start_time": "2022-05-17T12:17:15.774593",
     "status": "completed"
    },
    "scrolled": true,
    "tags": []
   },
   "outputs": [
    {
     "name": "stdout",
     "output_type": "stream",
     "text": [
      "The mean:15.578333333333335\n"
     ]
    }
   ],
   "source": [
    "SP500_data=pd.read_csv(\"/kaggle/input/sp500federal-reserve-economic-data-fred-201722/SP500.csv\",usecols=[\"observation_date\",\"SP500_PC1\"],na_values=\"NA\")\n",
    "#SP500_data=SP500_data.loc[:SP500_data.SP500_PC1.isnull()]\n",
    "#SP500_indexValues=SP500_data.SP500_PC1.values.reshape(-1,1)\n",
    "SP500_indexValues=SP500_data.SP500_PC1.values\n",
    "SP500_mean=SP500_indexValues.mean()\n",
    "data_len=len(SP500_data.SP500_PC1.values)\n",
    "SP500_CustomData=SP500_data.loc[:data_len-2]\n",
    "SP500_CustomData=SP500_CustomData.SP500_PC1.values\n",
    "mean=SP500_CustomData.mean()\n",
    "print(\"The mean:{0}\".format(mean))"
   ]
  },
  {
   "cell_type": "markdown",
   "id": "55b83446",
   "metadata": {
    "execution": {
     "iopub.execute_input": "2022-05-17T10:55:53.941036Z",
     "iopub.status.busy": "2022-05-17T10:55:53.940762Z",
     "iopub.status.idle": "2022-05-17T10:55:53.959431Z",
     "shell.execute_reply": "2022-05-17T10:55:53.958601Z",
     "shell.execute_reply.started": "2022-05-17T10:55:53.941007Z"
    },
    "papermill": {
     "duration": 0.006185,
     "end_time": "2022-05-17T12:17:15.824033",
     "exception": false,
     "start_time": "2022-05-17T12:17:15.817848",
     "status": "completed"
    },
    "tags": []
   },
   "source": [
    "import statistics\n",
    "SP500_indexArray=np.array(SP500_indexValues) # Convert the index values to an Array\n",
    "#SP500_indexList=np.ndarray.tolist(SP500_indexValues.flatten())\n",
    "SP500_indexList=np.ndarray.tolist(SP500_indexArray.flatten())\n",
    "SP500_mean=SP500Values.mean()\n",
    "print(SP500_mean)"
   ]
  },
  {
   "cell_type": "code",
   "execution_count": 3,
   "id": "2a73dda4",
   "metadata": {
    "execution": {
     "iopub.execute_input": "2022-05-17T12:17:15.838402Z",
     "iopub.status.busy": "2022-05-17T12:17:15.838113Z",
     "iopub.status.idle": "2022-05-17T12:17:15.868143Z",
     "shell.execute_reply": "2022-05-17T12:17:15.867170Z"
    },
    "papermill": {
     "duration": 0.040735,
     "end_time": "2022-05-17T12:17:15.871050",
     "exception": false,
     "start_time": "2022-05-17T12:17:15.830315",
     "status": "completed"
    },
    "tags": []
   },
   "outputs": [
    {
     "data": {
      "text/html": [
       "<div>\n",
       "<style scoped>\n",
       "    .dataframe tbody tr th:only-of-type {\n",
       "        vertical-align: middle;\n",
       "    }\n",
       "\n",
       "    .dataframe tbody tr th {\n",
       "        vertical-align: top;\n",
       "    }\n",
       "\n",
       "    .dataframe thead th {\n",
       "        text-align: right;\n",
       "    }\n",
       "</style>\n",
       "<table border=\"1\" class=\"dataframe\">\n",
       "  <thead>\n",
       "    <tr style=\"text-align: right;\">\n",
       "      <th></th>\n",
       "      <th>SP500_PC1</th>\n",
       "    </tr>\n",
       "  </thead>\n",
       "  <tbody>\n",
       "    <tr>\n",
       "      <th>count</th>\n",
       "      <td>60.000000</td>\n",
       "    </tr>\n",
       "    <tr>\n",
       "      <th>mean</th>\n",
       "      <td>15.578333</td>\n",
       "    </tr>\n",
       "    <tr>\n",
       "      <th>std</th>\n",
       "      <td>12.103188</td>\n",
       "    </tr>\n",
       "    <tr>\n",
       "      <th>min</th>\n",
       "      <td>-6.500000</td>\n",
       "    </tr>\n",
       "    <tr>\n",
       "      <th>25%</th>\n",
       "      <td>7.175000</td>\n",
       "    </tr>\n",
       "    <tr>\n",
       "      <th>50%</th>\n",
       "      <td>14.250000</td>\n",
       "    </tr>\n",
       "    <tr>\n",
       "      <th>75%</th>\n",
       "      <td>19.425000</td>\n",
       "    </tr>\n",
       "    <tr>\n",
       "      <th>max</th>\n",
       "      <td>49.900000</td>\n",
       "    </tr>\n",
       "  </tbody>\n",
       "</table>\n",
       "</div>"
      ],
      "text/plain": [
       "       SP500_PC1\n",
       "count  60.000000\n",
       "mean   15.578333\n",
       "std    12.103188\n",
       "min    -6.500000\n",
       "25%     7.175000\n",
       "50%    14.250000\n",
       "75%    19.425000\n",
       "max    49.900000"
      ]
     },
     "execution_count": 3,
     "metadata": {},
     "output_type": "execute_result"
    }
   ],
   "source": [
    "#Descriptive Statistics\n",
    "SP500_data.describe() # Summarize the Numerical columns\n",
    "#"
   ]
  }
 ],
 "metadata": {
  "kernelspec": {
   "display_name": "Python 3",
   "language": "python",
   "name": "python3"
  },
  "language_info": {
   "codemirror_mode": {
    "name": "ipython",
    "version": 3
   },
   "file_extension": ".py",
   "mimetype": "text/x-python",
   "name": "python",
   "nbconvert_exporter": "python",
   "pygments_lexer": "ipython3",
   "version": "3.7.12"
  },
  "papermill": {
   "default_parameters": {},
   "duration": 11.12159,
   "end_time": "2022-05-17T12:17:16.500567",
   "environment_variables": {},
   "exception": null,
   "input_path": "__notebook__.ipynb",
   "output_path": "__notebook__.ipynb",
   "parameters": {},
   "start_time": "2022-05-17T12:17:05.378977",
   "version": "2.3.4"
  }
 },
 "nbformat": 4,
 "nbformat_minor": 5
}
